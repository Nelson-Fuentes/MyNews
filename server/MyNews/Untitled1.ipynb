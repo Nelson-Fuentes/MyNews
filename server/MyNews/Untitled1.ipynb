{
 "cells": [
  {
   "cell_type": "code",
   "execution_count": 2,
   "metadata": {},
   "outputs": [
    {
     "name": "stdout",
     "output_type": "stream",
     "text": [
      " Coronavirus EN VIVO | Últimas noticias, casos y muertos por Covid-19 en el mundo, hoy viernes 10 de julio | El Comercio\n",
      " Todo lo que se debe saber sobre TikTok y los problemas que afronta a nivel mundial | Peru 21\n",
      " Jeanine Áñez, presidenta transitoria de Bolivia, es paciente “asintomática” del coronavirus | Peru 21\n",
      " Osinergmin dispone refacturación de recibos emitidos desde el 30 de junio a nivel nacional | El Comercio\n",
      " HOY WWE SmackDown EN VIVO: horarios del show de la marca azul desde el Performance Center | El Comercio\n",
      " VER Seattle Sounders vs. San Jose Earthquakes EN VIVO: con Raúl Ruidíaz, empatan 0-0 por el reinicio de la MLS | El Comercio\n",
      " Indecopi exige a Clorox Perú informar sobre medidas adoptadas tras retiro de Poett | Peru 21\n",
      " Estados Unidos registra nuevo récord mundial de contagios de coronavirus en un día | El Comercio\n",
      " San Martín: Envían diez médicos para reforzar atención de pacientes COVID-19 en Tocache, Tarapoto y Moyobamba | Peru 21\n",
      " Coronavirus en Perú: inauguran establecimiento transitorio para ingresos de internos | FOTOS | Peru 21\n"
     ]
    }
   ],
   "source": [
    "from etl.Search import Search\n",
    "from apps.source.models import Source\n",
    "search = Search(Source.objects.all())\n",
    "articles = search.search('coronavirus')\n",
    "for article in  articles:\n",
    "    print(article.title, '|' ,article.source.name)"
   ]
  },
  {
   "cell_type": "code",
   "execution_count": null,
   "metadata": {},
   "outputs": [],
   "source": []
  }
 ],
 "metadata": {
  "kernelspec": {
   "display_name": "Django Shell-Plus",
   "language": "python",
   "name": "django_extensions"
  },
  "language_info": {
   "codemirror_mode": {
    "name": "ipython",
    "version": 3
   },
   "file_extension": ".py",
   "mimetype": "text/x-python",
   "name": "python",
   "nbconvert_exporter": "python",
   "pygments_lexer": "ipython3",
   "version": "3.8.1"
  }
 },
 "nbformat": 4,
 "nbformat_minor": 4
}
